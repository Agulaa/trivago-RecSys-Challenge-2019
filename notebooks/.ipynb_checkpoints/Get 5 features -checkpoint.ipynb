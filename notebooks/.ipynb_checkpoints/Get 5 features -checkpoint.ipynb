{
 "cells": [
  {
   "cell_type": "code",
   "execution_count": 1,
   "metadata": {},
   "outputs": [],
   "source": [
    "import pandas as pd\n",
    "import numpy as np"
   ]
  },
  {
   "cell_type": "code",
   "execution_count": 2,
   "metadata": {},
   "outputs": [],
   "source": [
    "def string_to_array(s):\n",
    "    \"\"\"Convert pipe separated string to array.\"\"\"\n",
    "\n",
    "    if isinstance(s, str):\n",
    "        out = s.split(\"|\")\n",
    "    elif math.isnan(s):\n",
    "        out = []\n",
    "    else:\n",
    "        raise ValueError(\"Value must be either string of nan\")\n",
    "    return out"
   ]
  },
  {
   "cell_type": "code",
   "execution_count": 3,
   "metadata": {},
   "outputs": [],
   "source": [
    "def explode(df_in, col_expl):\n",
    "    \"\"\"Explode column col_expl of array type into multiple rows.\"\"\"\n",
    "    # Col_expl - \"impressions\"\n",
    "    df = df_in.copy()\n",
    "    df.loc[:, col_expl] = df[col_expl].apply(string_to_array)\n",
    "\n",
    "    df_out = pd.DataFrame(\n",
    "        {col: np.repeat(df[col].values,\n",
    "                        df[col_expl].str.len())\n",
    "         for col in df.columns.drop(col_expl)}\n",
    "    )\n",
    "\n",
    "\n",
    "    df_out.loc[:, col_expl] = np.concatenate(df[col_expl].values)\n",
    "    df_out.loc[:, col_expl] = df_out[col_expl].apply(str)\n",
    "\n",
    "    return df_out"
   ]
  },
  {
   "cell_type": "markdown",
   "metadata": {},
   "source": [
    "## Get metadata about hotel "
   ]
  },
  {
   "cell_type": "code",
   "execution_count": 4,
   "metadata": {},
   "outputs": [
    {
     "data": {
      "text/html": [
       "<div>\n",
       "<style scoped>\n",
       "    .dataframe tbody tr th:only-of-type {\n",
       "        vertical-align: middle;\n",
       "    }\n",
       "\n",
       "    .dataframe tbody tr th {\n",
       "        vertical-align: top;\n",
       "    }\n",
       "\n",
       "    .dataframe thead th {\n",
       "        text-align: right;\n",
       "    }\n",
       "</style>\n",
       "<table border=\"1\" class=\"dataframe\">\n",
       "  <thead>\n",
       "    <tr style=\"text-align: right;\">\n",
       "      <th></th>\n",
       "      <th>item_id</th>\n",
       "      <th>properties</th>\n",
       "    </tr>\n",
       "  </thead>\n",
       "  <tbody>\n",
       "    <tr>\n",
       "      <th>0</th>\n",
       "      <td>5101</td>\n",
       "      <td>Satellite TV|Golf Course|Airport Shuttle|Cosme...</td>\n",
       "    </tr>\n",
       "    <tr>\n",
       "      <th>1</th>\n",
       "      <td>5416</td>\n",
       "      <td>Satellite TV|Cosmetic Mirror|Safe (Hotel)|Tele...</td>\n",
       "    </tr>\n",
       "    <tr>\n",
       "      <th>2</th>\n",
       "      <td>5834</td>\n",
       "      <td>Satellite TV|Cosmetic Mirror|Safe (Hotel)|Tele...</td>\n",
       "    </tr>\n",
       "    <tr>\n",
       "      <th>3</th>\n",
       "      <td>5910</td>\n",
       "      <td>Satellite TV|Sailing|Cosmetic Mirror|Telephone...</td>\n",
       "    </tr>\n",
       "    <tr>\n",
       "      <th>4</th>\n",
       "      <td>6066</td>\n",
       "      <td>Satellite TV|Sailing|Diving|Cosmetic Mirror|Sa...</td>\n",
       "    </tr>\n",
       "  </tbody>\n",
       "</table>\n",
       "</div>"
      ],
      "text/plain": [
       "   item_id                                         properties\n",
       "0     5101  Satellite TV|Golf Course|Airport Shuttle|Cosme...\n",
       "1     5416  Satellite TV|Cosmetic Mirror|Safe (Hotel)|Tele...\n",
       "2     5834  Satellite TV|Cosmetic Mirror|Safe (Hotel)|Tele...\n",
       "3     5910  Satellite TV|Sailing|Cosmetic Mirror|Telephone...\n",
       "4     6066  Satellite TV|Sailing|Diving|Cosmetic Mirror|Sa..."
      ]
     },
     "execution_count": 4,
     "metadata": {},
     "output_type": "execute_result"
    }
   ],
   "source": [
    "df = pd.read_csv('../../data/item_metadata.csv')\n",
    "df.head()"
   ]
  },
  {
   "cell_type": "code",
   "execution_count": 5,
   "metadata": {},
   "outputs": [
    {
     "name": "stdout",
     "output_type": "stream",
     "text": [
      "<class 'pandas.core.frame.DataFrame'>\n",
      "RangeIndex: 927142 entries, 0 to 927141\n",
      "Data columns (total 2 columns):\n",
      "item_id       927142 non-null int64\n",
      "properties    927142 non-null object\n",
      "dtypes: int64(1), object(1)\n",
      "memory usage: 14.1+ MB\n"
     ]
    }
   ],
   "source": [
    "df.info()"
   ]
  },
  {
   "cell_type": "code",
   "execution_count": 6,
   "metadata": {},
   "outputs": [],
   "source": [
    "df['properties'] = df['properties'].str.replace(' ', '_')"
   ]
  },
  {
   "cell_type": "code",
   "execution_count": 7,
   "metadata": {},
   "outputs": [
    {
     "data": {
      "text/html": [
       "<div>\n",
       "<style scoped>\n",
       "    .dataframe tbody tr th:only-of-type {\n",
       "        vertical-align: middle;\n",
       "    }\n",
       "\n",
       "    .dataframe tbody tr th {\n",
       "        vertical-align: top;\n",
       "    }\n",
       "\n",
       "    .dataframe thead th {\n",
       "        text-align: right;\n",
       "    }\n",
       "</style>\n",
       "<table border=\"1\" class=\"dataframe\">\n",
       "  <thead>\n",
       "    <tr style=\"text-align: right;\">\n",
       "      <th></th>\n",
       "      <th>item_id</th>\n",
       "      <th>properties</th>\n",
       "    </tr>\n",
       "  </thead>\n",
       "  <tbody>\n",
       "    <tr>\n",
       "      <th>0</th>\n",
       "      <td>5101</td>\n",
       "      <td>Satellite_TV|Golf_Course|Airport_Shuttle|Cosme...</td>\n",
       "    </tr>\n",
       "    <tr>\n",
       "      <th>1</th>\n",
       "      <td>5416</td>\n",
       "      <td>Satellite_TV|Cosmetic_Mirror|Safe_(Hotel)|Tele...</td>\n",
       "    </tr>\n",
       "    <tr>\n",
       "      <th>2</th>\n",
       "      <td>5834</td>\n",
       "      <td>Satellite_TV|Cosmetic_Mirror|Safe_(Hotel)|Tele...</td>\n",
       "    </tr>\n",
       "    <tr>\n",
       "      <th>3</th>\n",
       "      <td>5910</td>\n",
       "      <td>Satellite_TV|Sailing|Cosmetic_Mirror|Telephone...</td>\n",
       "    </tr>\n",
       "    <tr>\n",
       "      <th>4</th>\n",
       "      <td>6066</td>\n",
       "      <td>Satellite_TV|Sailing|Diving|Cosmetic_Mirror|Sa...</td>\n",
       "    </tr>\n",
       "  </tbody>\n",
       "</table>\n",
       "</div>"
      ],
      "text/plain": [
       "   item_id                                         properties\n",
       "0     5101  Satellite_TV|Golf_Course|Airport_Shuttle|Cosme...\n",
       "1     5416  Satellite_TV|Cosmetic_Mirror|Safe_(Hotel)|Tele...\n",
       "2     5834  Satellite_TV|Cosmetic_Mirror|Safe_(Hotel)|Tele...\n",
       "3     5910  Satellite_TV|Sailing|Cosmetic_Mirror|Telephone...\n",
       "4     6066  Satellite_TV|Sailing|Diving|Cosmetic_Mirror|Sa..."
      ]
     },
     "execution_count": 7,
     "metadata": {},
     "output_type": "execute_result"
    }
   ],
   "source": [
    "df.head()"
   ]
  },
  {
   "cell_type": "code",
   "execution_count": 8,
   "metadata": {},
   "outputs": [],
   "source": [
    "df_out = explode(df, 'properties')"
   ]
  },
  {
   "cell_type": "markdown",
   "metadata": {},
   "source": [
    "Explode dataframe "
   ]
  },
  {
   "cell_type": "code",
   "execution_count": 9,
   "metadata": {},
   "outputs": [
    {
     "data": {
      "text/html": [
       "<div>\n",
       "<style scoped>\n",
       "    .dataframe tbody tr th:only-of-type {\n",
       "        vertical-align: middle;\n",
       "    }\n",
       "\n",
       "    .dataframe tbody tr th {\n",
       "        vertical-align: top;\n",
       "    }\n",
       "\n",
       "    .dataframe thead th {\n",
       "        text-align: right;\n",
       "    }\n",
       "</style>\n",
       "<table border=\"1\" class=\"dataframe\">\n",
       "  <thead>\n",
       "    <tr style=\"text-align: right;\">\n",
       "      <th></th>\n",
       "      <th>item_id</th>\n",
       "      <th>properties</th>\n",
       "    </tr>\n",
       "  </thead>\n",
       "  <tbody>\n",
       "    <tr>\n",
       "      <th>0</th>\n",
       "      <td>5101</td>\n",
       "      <td>Satellite_TV</td>\n",
       "    </tr>\n",
       "    <tr>\n",
       "      <th>1</th>\n",
       "      <td>5101</td>\n",
       "      <td>Golf_Course</td>\n",
       "    </tr>\n",
       "    <tr>\n",
       "      <th>2</th>\n",
       "      <td>5101</td>\n",
       "      <td>Airport_Shuttle</td>\n",
       "    </tr>\n",
       "    <tr>\n",
       "      <th>3</th>\n",
       "      <td>5101</td>\n",
       "      <td>Cosmetic_Mirror</td>\n",
       "    </tr>\n",
       "    <tr>\n",
       "      <th>4</th>\n",
       "      <td>5101</td>\n",
       "      <td>Safe_(Hotel)</td>\n",
       "    </tr>\n",
       "  </tbody>\n",
       "</table>\n",
       "</div>"
      ],
      "text/plain": [
       "   item_id       properties\n",
       "0     5101     Satellite_TV\n",
       "1     5101      Golf_Course\n",
       "2     5101  Airport_Shuttle\n",
       "3     5101  Cosmetic_Mirror\n",
       "4     5101     Safe_(Hotel)"
      ]
     },
     "execution_count": 9,
     "metadata": {},
     "output_type": "execute_result"
    }
   ],
   "source": [
    "df_out.head()"
   ]
  },
  {
   "cell_type": "code",
   "execution_count": 10,
   "metadata": {},
   "outputs": [
    {
     "name": "stdout",
     "output_type": "stream",
     "text": [
      "<class 'pandas.core.frame.DataFrame'>\n",
      "RangeIndex: 18260819 entries, 0 to 18260818\n",
      "Data columns (total 2 columns):\n",
      "item_id       int64\n",
      "properties    object\n",
      "dtypes: int64(1), object(1)\n",
      "memory usage: 278.6+ MB\n"
     ]
    }
   ],
   "source": [
    "df_out.info()"
   ]
  },
  {
   "cell_type": "markdown",
   "metadata": {},
   "source": [
    "Get unique properties "
   ]
  },
  {
   "cell_type": "code",
   "execution_count": 11,
   "metadata": {},
   "outputs": [
    {
     "data": {
      "text/plain": [
       "157"
      ]
     },
     "execution_count": 11,
     "metadata": {},
     "output_type": "execute_result"
    }
   ],
   "source": [
    "len(df_out.properties.unique())"
   ]
  },
  {
   "cell_type": "code",
   "execution_count": 12,
   "metadata": {},
   "outputs": [
    {
     "data": {
      "text/plain": [
       "array(['Satellite_TV', 'Golf_Course', 'Airport_Shuttle',\n",
       "       'Cosmetic_Mirror', 'Safe_(Hotel)', 'Telephone', 'Hotel',\n",
       "       'Sitting_Area_(Rooms)', 'Reception_(24/7)', 'Air_Conditioning',\n",
       "       'Hypoallergenic_Rooms', 'Cable_TV', 'Hotel_Bar', 'Pool_Table',\n",
       "       'Bathtub', 'Satisfactory_Rating', 'Room_Service', 'Luxury_Hotel',\n",
       "       'Terrace_(Hotel)', 'Television', 'Minigolf', 'Business_Hotel',\n",
       "       'Shower', 'Cot', 'Gym', 'Hairdryer', 'Hypoallergenic_Bedding',\n",
       "       'Accessible_Parking', 'From_3_Stars', 'Good_Rating', 'Radio',\n",
       "       '4_Star', 'From_4_Stars', 'Family_Friendly', 'Desk',\n",
       "       'Tennis_Court_(Indoor)', 'Balcony', 'WiFi_(Public_Areas)',\n",
       "       'Openable_Windows', 'Express_Check-In_/_Check-Out', 'Restaurant',\n",
       "       'Laundry_Service', 'Ironing_Board', 'Tennis_Court', 'From_2_Stars',\n",
       "       'Business_Centre', 'Bowling', 'Conference_Rooms',\n",
       "       'Electric_Kettle', 'Accessible_Hotel', 'Porter', 'Bike_Rental',\n",
       "       'Non-Smoking_Rooms', 'Car_Park', 'Safe_(Rooms)', 'Fitness', 'Fan',\n",
       "       'Flatscreen_TV', 'Computer_with_Internet', 'WiFi_(Rooms)', 'Lift',\n",
       "       'Central_Heating', 'Wheelchair_Accessible', 'Very_Good_Rating',\n",
       "       'Spa_(Wellness_Facility)', 'Free_WiFi_(Combined)', 'Sauna',\n",
       "       'Free_WiFi_(Rooms)', 'Excellent_Rating', 'Pet_Friendly',\n",
       "       'Free_WiFi_(Public_Areas)', 'Hiking_Trail', 'Beach', 'Boat_Rental',\n",
       "       'Gay-friendly', '3_Star', 'Singles', 'Sailing', 'Solarium',\n",
       "       'Concierge', 'Diving', 'Massage', 'Towels', 'Steam_Room',\n",
       "       'Spa_Hotel', 'Swimming_Pool_(Outdoor)', 'Beauty_Salon',\n",
       "       'Convention_Hotel', 'Table_Tennis', 'Surfing', 'Hot_Stone_Massage',\n",
       "       'Romantic', 'Hammam', 'Playground', 'Swimming_Pool_(Indoor)',\n",
       "       'Jacuzzi_(Hotel)', 'Honeymoon', 'Body_Treatments', 'Volleyball',\n",
       "       'Swimming_Pool_(Combined_Filter)', 'Horse_Riding',\n",
       "       'Convenience_Store', 'Deck_Chairs', 'Self_Catering', 'Fridge',\n",
       "       'Design_Hotel', 'Childcare', 'Resort', 'Room_Service_(24/7)',\n",
       "       \"Kids'_Club\", 'All_Inclusive_(Upon_Inquiry)',\n",
       "       'On-Site_Boutique_Shopping', 'Shooting_Sports',\n",
       "       'Swimming_Pool_(Bar)', 'Sun_Umbrellas', 'Club_Hotel',\n",
       "       'Direct_beach_access', 'Nightclub', 'Organised_Activities',\n",
       "       'Large_Groups', 'Hairdresser', 'Teleprinter', 'Microwave',\n",
       "       'Washing_Machine', 'Health_Retreat', 'Bungalows', 'Doctor_On-Site',\n",
       "       'Ski_Resort', 'Senior_Travellers', '2_Star', '5_Star',\n",
       "       'Halal_Food', 'Skiing', 'Country_Hotel', 'Theme_Hotel',\n",
       "       'Beach_Bar', 'Eco-Friendly_hotel', '1_Star', 'Bed_&_Breakfast',\n",
       "       'Hydrotherapy', 'Boutique_Hotel', 'Serviced_Apartment',\n",
       "       'Kosher_Food', 'Airport_Hotel', 'Casino_(Hotel)', 'Adults_Only',\n",
       "       'Motel', 'Hostel', 'Guest_House', 'House_/_Apartment',\n",
       "       'Water_Slide', 'Casa_Rural_(ES)', 'Szep_Kartya', 'Camping_Site',\n",
       "       'Pousada_(BR)', 'Farmstay', 'Hostal_(ES)'], dtype=object)"
      ]
     },
     "execution_count": 12,
     "metadata": {},
     "output_type": "execute_result"
    }
   ],
   "source": [
    "df_out.properties.unique()"
   ]
  },
  {
   "cell_type": "markdown",
   "metadata": {},
   "source": [
    "# Get to 15 most frequent properties "
   ]
  },
  {
   "cell_type": "code",
   "execution_count": 13,
   "metadata": {
    "scrolled": true
   },
   "outputs": [
    {
     "data": {
      "text/plain": [
       "Satisfactory_Rating     533286\n",
       "Car_Park                487879\n",
       "Good_Rating             481910\n",
       "WiFi_(Rooms)            467027\n",
       "Shower                  426875\n",
       "Television              425953\n",
       "WiFi_(Public_Areas)     399547\n",
       "Hotel                   379321\n",
       "Very_Good_Rating        376666\n",
       "Air_Conditioning        353296\n",
       "House_/_Apartment       352254\n",
       "Openable_Windows        348151\n",
       "Non-Smoking_Rooms       346035\n",
       "Free_WiFi_(Combined)    318894\n",
       "Central_Heating         315101\n",
       "Name: properties, dtype: int64"
      ]
     },
     "execution_count": 13,
     "metadata": {},
     "output_type": "execute_result"
    }
   ],
   "source": [
    "df_out.properties.value_counts()[:15]"
   ]
  },
  {
   "cell_type": "code",
   "execution_count": 14,
   "metadata": {},
   "outputs": [
    {
     "data": {
      "text/plain": [
       "927142"
      ]
     },
     "execution_count": 14,
     "metadata": {},
     "output_type": "execute_result"
    }
   ],
   "source": [
    "len(df_out.item_id.unique())"
   ]
  },
  {
   "cell_type": "markdown",
   "metadata": {},
   "source": [
    " 1. 3_Star\n",
    " 2. Reception_(24/7)\n",
    " 3. Satisfactory_Rating\n",
    " 4. Car_Park\n",
    " 5. Very_Good_Rating "
   ]
  },
  {
   "cell_type": "code",
   "execution_count": 15,
   "metadata": {},
   "outputs": [
    {
     "name": "stdout",
     "output_type": "stream",
     "text": [
      "<class 'pandas.core.frame.DataFrame'>\n",
      "RangeIndex: 927142 entries, 0 to 927141\n",
      "Data columns (total 2 columns):\n",
      "item_id       927142 non-null int64\n",
      "properties    927142 non-null object\n",
      "dtypes: int64(1), object(1)\n",
      "memory usage: 14.1+ MB\n"
     ]
    }
   ],
   "source": [
    "df.info()"
   ]
  },
  {
   "cell_type": "code",
   "execution_count": 16,
   "metadata": {},
   "outputs": [],
   "source": [
    "df['3_Star'] = np.where( df.properties.str.contains('|3_Star|', regex=False), 1, 0) \n",
    "df['Reception_(24/7)'] = np.where( df.properties.str.contains('Reception_(24/7)', regex=False), 1, 0) \n",
    "df['Satisfactory_Rating'] = np.where( df.properties.str.contains('Satisfactory_Rating', regex=False), 1, 0) \n",
    "df['Car_Park'] = np.where( df.properties.str.contains('Car_Park', regex=False), 1, 0) \n",
    "df['Very_Good_Rating'] = np.where( df.properties.str.contains('Very_Good_Rating', regex=False), 1, 0) "
   ]
  },
  {
   "cell_type": "code",
   "execution_count": 17,
   "metadata": {},
   "outputs": [
    {
     "data": {
      "text/html": [
       "<div>\n",
       "<style scoped>\n",
       "    .dataframe tbody tr th:only-of-type {\n",
       "        vertical-align: middle;\n",
       "    }\n",
       "\n",
       "    .dataframe tbody tr th {\n",
       "        vertical-align: top;\n",
       "    }\n",
       "\n",
       "    .dataframe thead th {\n",
       "        text-align: right;\n",
       "    }\n",
       "</style>\n",
       "<table border=\"1\" class=\"dataframe\">\n",
       "  <thead>\n",
       "    <tr style=\"text-align: right;\">\n",
       "      <th></th>\n",
       "      <th>item_id</th>\n",
       "      <th>properties</th>\n",
       "      <th>3_Star</th>\n",
       "      <th>Reception_(24/7)</th>\n",
       "      <th>Satisfactory_Rating</th>\n",
       "      <th>Car_Park</th>\n",
       "      <th>Very_Good_Rating</th>\n",
       "    </tr>\n",
       "  </thead>\n",
       "  <tbody>\n",
       "    <tr>\n",
       "      <th>0</th>\n",
       "      <td>5101</td>\n",
       "      <td>Satellite_TV|Golf_Course|Airport_Shuttle|Cosme...</td>\n",
       "      <td>0</td>\n",
       "      <td>1</td>\n",
       "      <td>1</td>\n",
       "      <td>1</td>\n",
       "      <td>0</td>\n",
       "    </tr>\n",
       "    <tr>\n",
       "      <th>1</th>\n",
       "      <td>5416</td>\n",
       "      <td>Satellite_TV|Cosmetic_Mirror|Safe_(Hotel)|Tele...</td>\n",
       "      <td>0</td>\n",
       "      <td>1</td>\n",
       "      <td>1</td>\n",
       "      <td>1</td>\n",
       "      <td>1</td>\n",
       "    </tr>\n",
       "    <tr>\n",
       "      <th>2</th>\n",
       "      <td>5834</td>\n",
       "      <td>Satellite_TV|Cosmetic_Mirror|Safe_(Hotel)|Tele...</td>\n",
       "      <td>1</td>\n",
       "      <td>1</td>\n",
       "      <td>1</td>\n",
       "      <td>1</td>\n",
       "      <td>1</td>\n",
       "    </tr>\n",
       "    <tr>\n",
       "      <th>3</th>\n",
       "      <td>5910</td>\n",
       "      <td>Satellite_TV|Sailing|Cosmetic_Mirror|Telephone...</td>\n",
       "      <td>0</td>\n",
       "      <td>0</td>\n",
       "      <td>1</td>\n",
       "      <td>1</td>\n",
       "      <td>0</td>\n",
       "    </tr>\n",
       "    <tr>\n",
       "      <th>4</th>\n",
       "      <td>6066</td>\n",
       "      <td>Satellite_TV|Sailing|Diving|Cosmetic_Mirror|Sa...</td>\n",
       "      <td>0</td>\n",
       "      <td>1</td>\n",
       "      <td>1</td>\n",
       "      <td>1</td>\n",
       "      <td>0</td>\n",
       "    </tr>\n",
       "  </tbody>\n",
       "</table>\n",
       "</div>"
      ],
      "text/plain": [
       "   item_id                                         properties  3_Star  \\\n",
       "0     5101  Satellite_TV|Golf_Course|Airport_Shuttle|Cosme...       0   \n",
       "1     5416  Satellite_TV|Cosmetic_Mirror|Safe_(Hotel)|Tele...       0   \n",
       "2     5834  Satellite_TV|Cosmetic_Mirror|Safe_(Hotel)|Tele...       1   \n",
       "3     5910  Satellite_TV|Sailing|Cosmetic_Mirror|Telephone...       0   \n",
       "4     6066  Satellite_TV|Sailing|Diving|Cosmetic_Mirror|Sa...       0   \n",
       "\n",
       "   Reception_(24/7)  Satisfactory_Rating  Car_Park  Very_Good_Rating  \n",
       "0                 1                    1         1                 0  \n",
       "1                 1                    1         1                 1  \n",
       "2                 1                    1         1                 1  \n",
       "3                 0                    1         1                 0  \n",
       "4                 1                    1         1                 0  "
      ]
     },
     "execution_count": 17,
     "metadata": {},
     "output_type": "execute_result"
    }
   ],
   "source": [
    "df.head()"
   ]
  },
  {
   "cell_type": "code",
   "execution_count": 18,
   "metadata": {},
   "outputs": [],
   "source": [
    "df = df.drop('properties', axis=1)"
   ]
  },
  {
   "cell_type": "code",
   "execution_count": 19,
   "metadata": {},
   "outputs": [
    {
     "data": {
      "text/html": [
       "<div>\n",
       "<style scoped>\n",
       "    .dataframe tbody tr th:only-of-type {\n",
       "        vertical-align: middle;\n",
       "    }\n",
       "\n",
       "    .dataframe tbody tr th {\n",
       "        vertical-align: top;\n",
       "    }\n",
       "\n",
       "    .dataframe thead th {\n",
       "        text-align: right;\n",
       "    }\n",
       "</style>\n",
       "<table border=\"1\" class=\"dataframe\">\n",
       "  <thead>\n",
       "    <tr style=\"text-align: right;\">\n",
       "      <th></th>\n",
       "      <th>item_id</th>\n",
       "      <th>3_Star</th>\n",
       "      <th>Reception_(24/7)</th>\n",
       "      <th>Satisfactory_Rating</th>\n",
       "      <th>Car_Park</th>\n",
       "      <th>Very_Good_Rating</th>\n",
       "    </tr>\n",
       "  </thead>\n",
       "  <tbody>\n",
       "    <tr>\n",
       "      <th>0</th>\n",
       "      <td>5101</td>\n",
       "      <td>0</td>\n",
       "      <td>1</td>\n",
       "      <td>1</td>\n",
       "      <td>1</td>\n",
       "      <td>0</td>\n",
       "    </tr>\n",
       "    <tr>\n",
       "      <th>1</th>\n",
       "      <td>5416</td>\n",
       "      <td>0</td>\n",
       "      <td>1</td>\n",
       "      <td>1</td>\n",
       "      <td>1</td>\n",
       "      <td>1</td>\n",
       "    </tr>\n",
       "    <tr>\n",
       "      <th>2</th>\n",
       "      <td>5834</td>\n",
       "      <td>1</td>\n",
       "      <td>1</td>\n",
       "      <td>1</td>\n",
       "      <td>1</td>\n",
       "      <td>1</td>\n",
       "    </tr>\n",
       "    <tr>\n",
       "      <th>3</th>\n",
       "      <td>5910</td>\n",
       "      <td>0</td>\n",
       "      <td>0</td>\n",
       "      <td>1</td>\n",
       "      <td>1</td>\n",
       "      <td>0</td>\n",
       "    </tr>\n",
       "    <tr>\n",
       "      <th>4</th>\n",
       "      <td>6066</td>\n",
       "      <td>0</td>\n",
       "      <td>1</td>\n",
       "      <td>1</td>\n",
       "      <td>1</td>\n",
       "      <td>0</td>\n",
       "    </tr>\n",
       "  </tbody>\n",
       "</table>\n",
       "</div>"
      ],
      "text/plain": [
       "   item_id  3_Star  Reception_(24/7)  Satisfactory_Rating  Car_Park  \\\n",
       "0     5101       0                 1                    1         1   \n",
       "1     5416       0                 1                    1         1   \n",
       "2     5834       1                 1                    1         1   \n",
       "3     5910       0                 0                    1         1   \n",
       "4     6066       0                 1                    1         1   \n",
       "\n",
       "   Very_Good_Rating  \n",
       "0                 0  \n",
       "1                 1  \n",
       "2                 1  \n",
       "3                 0  \n",
       "4                 0  "
      ]
     },
     "execution_count": 19,
     "metadata": {},
     "output_type": "execute_result"
    }
   ],
   "source": [
    "df.head()"
   ]
  },
  {
   "cell_type": "code",
   "execution_count": 20,
   "metadata": {},
   "outputs": [],
   "source": [
    "df.to_csv('../../data/5_features.csv', index=False)"
   ]
  },
  {
   "cell_type": "code",
   "execution_count": null,
   "metadata": {},
   "outputs": [],
   "source": []
  }
 ],
 "metadata": {
  "kernelspec": {
   "display_name": "Python 3",
   "language": "python",
   "name": "python3"
  },
  "language_info": {
   "codemirror_mode": {
    "name": "ipython",
    "version": 3
   },
   "file_extension": ".py",
   "mimetype": "text/x-python",
   "name": "python",
   "nbconvert_exporter": "python",
   "pygments_lexer": "ipython3",
   "version": "3.7.3"
  }
 },
 "nbformat": 4,
 "nbformat_minor": 2
}
